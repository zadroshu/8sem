{
  "cells": [
    {
      "cell_type": "code",
      "execution_count": 1,
      "metadata": {
        "id": "PEHDBk2lasA-"
      },
      "outputs": [],
      "source": [
        "import os\n",
        "import torch\n",
        "import torch.nn as nn\n",
        "import torch.nn.functional as F\n",
        "from torch.distributions import Categorical\n",
        "import numpy as np\n",
        "import time\n",
        "import random"
      ]
    },
    {
      "cell_type": "code",
      "execution_count": 2,
      "metadata": {
        "id": "WjItgRKLrvrK"
      },
      "outputs": [],
      "source": [
        "file_name = 'kallah_neyron_prelu.pt'"
      ]
    },
    {
      "cell_type": "code",
      "execution_count": 3,
      "metadata": {
        "id": "U6Sm_h2WrzpQ"
      },
      "outputs": [],
      "source": [
        "def model_init(name):\n",
        "    DL = 14\n",
        "    Prs = 78\n",
        "\n",
        "    model = 0\n",
        "\n",
        "    if os.path.exists(name):\n",
        "        model = torch.load(name)\n",
        "        print(\"model loaded: \", name)\n",
        "    else:\n",
        "        model = nn.Sequential(\n",
        "            nn.Linear(DL,Prs),\n",
        "            nn.PReLU(),\n",
        "            nn.Linear(Prs, 6),\n",
        "            nn.Softmax()\n",
        "        )\n",
        "        print(\"model init\")\n",
        "\n",
        "    return model"
      ]
    },
    {
      "cell_type": "code",
      "execution_count": 4,
      "metadata": {
        "id": "Crk2-NMyr82x"
      },
      "outputs": [],
      "source": [
        "def space(board):\n",
        "    return torch.tensor(board[0:])"
      ]
    },
    {
      "cell_type": "code",
      "execution_count": 5,
      "metadata": {
        "colab": {
          "base_uri": "https://localhost:8080/"
        },
        "id": "kp9fL6qDr6hX",
        "outputId": "b9d1f1e3-20a8-48f8-b322-4d1c86e47e2c"
      },
      "outputs": [
        {
          "output_type": "stream",
          "name": "stdout",
          "text": [
            "model init\n"
          ]
        }
      ],
      "source": [
        "model = model_init(file_name)\n",
        "optimizer = torch.optim.Adam(model.parameters())"
      ]
    },
    {
      "cell_type": "code",
      "execution_count": 6,
      "metadata": {
        "id": "mDa752m4awVQ"
      },
      "outputs": [],
      "source": [
        "def bolvan(game):\n",
        "    return random.choice(game.get_valid_moves())"
      ]
    },
    {
      "cell_type": "code",
      "execution_count": 7,
      "metadata": {
        "id": "mzZu1PfmarOQ"
      },
      "outputs": [],
      "source": [
        "class Kalah:\n",
        "    def __init__(self, num_holes=6, num_seeds=6.):\n",
        "        self.num_holes = num_holes\n",
        "        self.num_seeds = num_seeds\n",
        "\n",
        "        self.board = [float(num_seeds) for _ in range(num_holes * 2 + 2)]  # Заполняем лунки\n",
        "\n",
        "        self.kalah1_index = self.num_holes  # Индекс корзины первого игрока\n",
        "        self.kalah2_index = self.num_holes + 1  # Индекс корзины второго игрока\n",
        "\n",
        "        self.board[self.kalah1_index] = 0.\n",
        "        self.board[self.kalah2_index] = 0.\n",
        "\n",
        "        self.current_player = 0  # Текущий игрок\n",
        "\n",
        "        self.diff1 = self.num_holes + 2  # Разница между противоположными лунками относительно прямого порядка\n",
        "        self.diff2 = self.num_holes  # Разница между противоположными лунками относительно обратного порядка\n",
        "\n",
        "        self.move_number = 0\n",
        "\n",
        "    def step(self, action):\n",
        "        hole = action\n",
        "        player = self.current_player\n",
        "        boardCopy = self.board.copy()\n",
        "\n",
        "        # Если в выбранной лунке 0 камней, заканчиваем игру и отдаем все камни противоположному игроку\n",
        "        if boardCopy[hole] == 0:\n",
        "            for i in range(len(boardCopy)):\n",
        "                boardCopy[i] = 0.\n",
        "            boardCopy[self.num_holes + 1] = 2 * self.num_holes * self.num_seeds\n",
        "            return [boardCopy, player]\n",
        "        \n",
        "        seeds = boardCopy[hole]  # Запоминаем количество в выбранной лунке\n",
        "\n",
        "        boardCopy[hole] = 0.  # Обнуляем выбранную лунку\n",
        "\n",
        "        # Запускаем распределение камней\n",
        "        while seeds > 0:\n",
        "            hole = hole + 1 if hole >= 0 else hole - 1\n",
        "\n",
        "            # Если прошли свою корзину, переходим на другую сторону\n",
        "            if hole == self.num_holes + 1:\n",
        "                hole = -1\n",
        "            if hole == -1 * self.num_holes - 2:\n",
        "                hole = 0\n",
        "\n",
        "            # Если распределение дошло до корзины соперника, пропускаем её\n",
        "            if hole == -1 * self.num_holes - 1:\n",
        "                continue\n",
        "\n",
        "            boardCopy[hole] += 1.  # Увеличиваем кол-во камней в лунке\n",
        "            seeds -= 1.  # Уменьшаем кол-во камней в выбранной лунке\n",
        "\n",
        "        # Если последний камень оказался в корзине, выходим без смены хода\n",
        "        if hole == self.num_holes:\n",
        "            return [boardCopy, player]\n",
        "\n",
        "        # Если последний камень попал в пустую лунку принадлежащую ему и противоположная лунка соперника не пуста, то этот камень и все камни из противоположной лунки соперника игрок переносит себе в корзину\n",
        "        if boardCopy[hole] == 1 and hole >= 0 and boardCopy[hole + self.diff1] > 0:\n",
        "              boardCopy[self.kalah1_index] += boardCopy[hole + self.diff1] + 1.\n",
        "              boardCopy[hole] = 0.\n",
        "              boardCopy[hole + self.diff1] = 0.\n",
        "\n",
        "        return [self.flip(boardCopy), 1 - player]\n",
        "\n",
        "    def flip(self, board):\n",
        "        board_new = [0 for _ in range(len(board))]\n",
        "\n",
        "        for i in range(self.num_holes):\n",
        "            board_new[i] = board[-1-i]\n",
        "            board_new[-1-i] = board[i]\n",
        "\n",
        "        board_new[self.kalah1_index] = board[self.kalah2_index]\n",
        "        board_new[self.kalah2_index] = board[self.kalah1_index]\n",
        "        return board_new\n",
        "    \n",
        "    def do_step(self, action):\n",
        "        tmp = self.step(action)\n",
        "        self.board = tmp[0]\n",
        "        self.current_player = tmp[1]\n",
        "        self.move_number += 1\n",
        "\n",
        "    def game_over(self):\n",
        "        return sum(self.board[:self.num_holes]) == 0 or sum(self.board[self.diff1:]) == 0 or self.board[self.kalah2_index] > (self.num_holes * self.num_seeds) or self.board[self.kalah1_index] > (self.num_holes * self.num_seeds)\n",
        "\n",
        "    def get_winner(self):\n",
        "        if not self.game_over():\n",
        "            return None\n",
        "        return self.current_player if self.board[self.kalah1_index] > self.board[self.kalah2_index] else 1 - self.current_player\n",
        "\n",
        "    def get_value(self, action):\n",
        "        boardC = self.board\n",
        "        return boardC[action]\n",
        "\n",
        "    def get_state(self):\n",
        "        return [self.board, self.current_player]\n",
        "    \n",
        "    def get_valid_moves(self):\n",
        "        boardC = self.board\n",
        "        moves = []\n",
        "        for i in range(self.num_holes):\n",
        "            if boardC[i] != 0:\n",
        "                moves.append(i)\n",
        "        return moves\n",
        "\n",
        "    def print_board(self):\n",
        "        boardC = self.board\n",
        "        if self.current_player == 1: boardC = self.flip(boardC)\n",
        "        int_array1 = list(map(int, boardC[:self.num_holes]))\n",
        "        int_kalah1 = int(boardC[self.num_holes])\n",
        "        int_array2 = list(map(int, boardC[self.num_holes + 2:]))\n",
        "        int_kalah2 = int(boardC[-1 * self.num_holes - 1])\n",
        "        print(\"=========== Move {}; Player {} ===========\".format(self.move_number, self.current_player+1))\n",
        "        print(\"player 2:\", int_kalah2, int_array2)\n",
        "        print(\"player 1:  \", int_array1, int_kalah1)\n",
        "\n",
        "    def play_game(self):\n",
        "        move = 0\n",
        "        while not self.game_over():\n",
        "            print(\"=========== Move \", move, \" ===========\")\n",
        "            print(\"player 2:\", self.board[-1 * self.num_holes - 1], self.board[self.num_holes + 2:])\n",
        "            print(\"player 1:  \", self.board[:self.num_holes], self.board[self.num_holes])\n",
        "            hole = int(input(\"Player {}'s turn. Enter hole number(0-5): \".format(self.current_player + 1)))\n",
        "            while True:\n",
        "                if hole >= 0 and hole <= 5: break\n",
        "                hole = int(input(\"Player {}'s turn. Enter hole number(0-5): \".format(self.current_player + 1)))\n",
        "            self.do_step(hole)\n",
        "            move += 1\n",
        "        self.print_board()\n",
        "        print(\"Game over. Player {} wins!\".format(self.get_winner() + 1))\n",
        "\n",
        "    def playBolvanVsBolvan(self):\n",
        "        while not self.game_over():\n",
        "            self.print_board()\n",
        "            hole = bolvan(self)\n",
        "            print(\"=========== Action {}; value {} ===========\\n\".format(hole, int(self.get_value(hole))))\n",
        "            self.do_step(hole)\n",
        "        self.print_board()\n",
        "        print(\"Game over. Bolvan {} wins!\".format(self.get_winner() + 1))"
      ]
    },
    {
      "cell_type": "code",
      "execution_count": 8,
      "metadata": {
        "id": "ZUL9rCTWax16"
      },
      "outputs": [],
      "source": [
        "# game = Kalah()\n",
        "# game.playBolvanVsBolvan()"
      ]
    },
    {
      "cell_type": "code",
      "execution_count": 9,
      "metadata": {
        "id": "7WaNNo9-sEVV"
      },
      "outputs": [],
      "source": [
        "def train(gamma = 0.3, alpha = 0.3, max_ep = 99999999):\n",
        "    time_1 = time.time()\n",
        "    zero_flag = False\n",
        "    count_errors = 1000\n",
        "    wins_neural = 0\n",
        "    reward_for_zero = -50\n",
        "    inner_time = time.time()\n",
        "    episode = 0\n",
        "\n",
        "    while count_errors != 0:\n",
        "        episode += 1\n",
        "        if episode % 1000 == 0:\n",
        "          inner_time = time.time() - inner_time\n",
        "          print(\"Neural wins per 1000 plays {}: errors per 1000 plays {} time {}\".format(wins_neural, count_errors, inner_time))\n",
        "          count_errors = 0\n",
        "          wins_neural = 0\n",
        "          inner_time = time.time()\n",
        "          torch.save(model, file_name)\n",
        "        \n",
        "        tr = []\n",
        "        game = Kalah()\n",
        "        while not game.game_over():\n",
        "            state = game.get_state()\n",
        "            cur_board = state[0]\n",
        "            cur_player = state[1]\n",
        "            SPACE = space(cur_board)\n",
        "\n",
        "            if cur_player == 0:\n",
        "                probs = model(SPACE)\n",
        "                m = Categorical(probs)\n",
        "                action = m.sample()\n",
        "                if game.get_value(action) != 0:\n",
        "                    reward = 1\n",
        "                    #reward = game.board[game.num_holes] - game.board[-1 * game.num_holes - 1]\n",
        "                    tr.append((SPACE.clone(), action.clone(), reward))\n",
        "                else:\n",
        "                    reward = reward_for_zero\n",
        "                    tr.append((SPACE.clone(), action.clone(), reward))\n",
        "                    count_errors += 1\n",
        "            else:\n",
        "                action = bolvan(game)\n",
        "\n",
        "            # print(\"Game {}\".format(episode))\n",
        "            # game.print_board()\n",
        "            # print(\"Action {}\\n\".format(action))\n",
        "\n",
        "            game.do_step(action)\n",
        "\n",
        "        if game.get_winner() == 0:\n",
        "            wins_neural += 1\n",
        "\n",
        "        loss = 0.\n",
        "\n",
        "        T = len(tr)\n",
        "        for t in range(T):\n",
        "            R = 0.\n",
        "            for i in range(t,T):\n",
        "                R += (gamma**(i - t))*tr[i][2]\n",
        "\n",
        "            loss += -alpha*R*Categorical(model(tr[t][0])).log_prob(tr[t][1])\n",
        "\n",
        "        optimizer.zero_grad()\n",
        "        loss.backward()\n",
        "        optimizer.step()\n",
        "\n",
        "    print(time.time() - time_1)"
      ]
    },
    {
      "cell_type": "code",
      "execution_count": 10,
      "metadata": {
        "colab": {
          "base_uri": "https://localhost:8080/"
        },
        "id": "aYdVHs2ss8pn",
        "outputId": "da329734-e571-4410-dd07-a48b7320b596"
      },
      "outputs": [
        {
          "output_type": "stream",
          "name": "stderr",
          "text": [
            "/usr/local/lib/python3.9/dist-packages/torch/nn/modules/container.py:204: UserWarning: Implicit dimension choice for softmax has been deprecated. Change the call to include dim=X as an argument.\n",
            "  input = module(input)\n"
          ]
        },
        {
          "output_type": "stream",
          "name": "stdout",
          "text": [
            "Neural wins per 1000 plays 80: errors per 1000 plays 1891 time 19.85286855697632\n",
            "19.888694047927856\n"
          ]
        }
      ],
      "source": [
        "train()"
      ]
    },
    {
      "cell_type": "code",
      "execution_count": 11,
      "metadata": {
        "id": "t-ywSteMK_hk"
      },
      "outputs": [],
      "source": [
        "def test_neural_bolvan(model):\n",
        "    counter_error = 0\n",
        "    neural_wins = 0\n",
        "    for i in range(1, 100001):\n",
        "        game = Kalah()\n",
        "        move = 0\n",
        "        while not game.game_over():\n",
        "            SPACE = space(game.board)\n",
        "            if game.current_player == 0:\n",
        "                probs = model(SPACE)\n",
        "                m = Categorical(probs)\n",
        "                action = m.sample()\n",
        "                if game.get_value(action) == 0:\n",
        "                    counter_error += 1\n",
        "            else:\n",
        "                action = bolvan(game)\n",
        "\n",
        "            # print(\"Game {}\".format(i))\n",
        "            # game.print_board()\n",
        "            # print(\"Action {}\\n\".format(action))\n",
        "            game.do_step(action)\n",
        "            move += 1\n",
        "        \n",
        "        if game.get_winner() == 0:\n",
        "            neural_wins += 1\n",
        "\n",
        "        if i % 1000 == 0:\n",
        "            print(\"Neural wins: {};Errors: {}\".format(neural_wins, counter_error))\n",
        "            counter_error = 0\n",
        "            neural_wins = 0"
      ]
    },
    {
      "cell_type": "code",
      "execution_count": null,
      "metadata": {
        "id": "LLHG1Y1EQhrQ"
      },
      "outputs": [],
      "source": [
        "test_neural_bolvan(model)"
      ]
    },
    {
      "cell_type": "code",
      "source": [
        "print(model)"
      ],
      "metadata": {
        "id": "8Uz8GYixIJY6"
      },
      "execution_count": null,
      "outputs": []
    }
  ],
  "metadata": {
    "colab": {
      "provenance": []
    },
    "kernelspec": {
      "display_name": "Python 3",
      "name": "python3"
    },
    "language_info": {
      "name": "python"
    }
  },
  "nbformat": 4,
  "nbformat_minor": 0
}